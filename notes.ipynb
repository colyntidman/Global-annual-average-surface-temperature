{
 "cells": [
  {
   "cell_type": "markdown",
   "id": "basic-playback",
   "metadata": {},
   "source": [
    "# Global annual average surface temperature"
   ]
  },
  {
   "cell_type": "markdown",
   "id": "funky-sigma",
   "metadata": {},
   "source": [
    "We found on a the NASA website : https://climate.nasa.gov/vital-signs/global-temperature/"
   ]
  },
  {
   "cell_type": "code",
   "execution_count": 56,
   "id": "blind-italic",
   "metadata": {
    "execution": {
     "iopub.execute_input": "2021-04-22T10:04:06.259346Z",
     "iopub.status.busy": "2021-04-22T10:04:06.259086Z",
     "iopub.status.idle": "2021-04-22T10:04:06.816923Z",
     "shell.execute_reply": "2021-04-22T10:04:06.812796Z",
     "shell.execute_reply.started": "2021-04-22T10:04:06.259309Z"
    },
    "tags": []
   },
   "outputs": [
    {
     "data": {
      "text/html": [
       "<div>\n",
       "<style scoped>\n",
       "    .dataframe tbody tr th:only-of-type {\n",
       "        vertical-align: middle;\n",
       "    }\n",
       "\n",
       "    .dataframe tbody tr th {\n",
       "        vertical-align: top;\n",
       "    }\n",
       "\n",
       "    .dataframe thead th {\n",
       "        text-align: right;\n",
       "    }\n",
       "</style>\n",
       "<table border=\"1\" class=\"dataframe\">\n",
       "  <thead>\n",
       "    <tr style=\"text-align: right;\">\n",
       "      <th></th>\n",
       "      <th>Year</th>\n",
       "      <th>No_Smoothing</th>\n",
       "      <th>Lowess(5)</th>\n",
       "    </tr>\n",
       "  </thead>\n",
       "  <tbody>\n",
       "    <tr>\n",
       "      <th>0</th>\n",
       "      <td>1880</td>\n",
       "      <td>-0.16</td>\n",
       "      <td>-0.08</td>\n",
       "    </tr>\n",
       "    <tr>\n",
       "      <th>1</th>\n",
       "      <td>1881</td>\n",
       "      <td>-0.08</td>\n",
       "      <td>-0.12</td>\n",
       "    </tr>\n",
       "    <tr>\n",
       "      <th>2</th>\n",
       "      <td>1882</td>\n",
       "      <td>-0.10</td>\n",
       "      <td>-0.16</td>\n",
       "    </tr>\n",
       "    <tr>\n",
       "      <th>3</th>\n",
       "      <td>1883</td>\n",
       "      <td>-0.16</td>\n",
       "      <td>-0.20</td>\n",
       "    </tr>\n",
       "    <tr>\n",
       "      <th>4</th>\n",
       "      <td>1884</td>\n",
       "      <td>-0.28</td>\n",
       "      <td>-0.23</td>\n",
       "    </tr>\n",
       "    <tr>\n",
       "      <th>5</th>\n",
       "      <td>1885</td>\n",
       "      <td>-0.33</td>\n",
       "      <td>-0.26</td>\n",
       "    </tr>\n",
       "    <tr>\n",
       "      <th>6</th>\n",
       "      <td>1886</td>\n",
       "      <td>-0.31</td>\n",
       "      <td>-0.27</td>\n",
       "    </tr>\n",
       "    <tr>\n",
       "      <th>7</th>\n",
       "      <td>1887</td>\n",
       "      <td>-0.36</td>\n",
       "      <td>-0.27</td>\n",
       "    </tr>\n",
       "    <tr>\n",
       "      <th>8</th>\n",
       "      <td>1888</td>\n",
       "      <td>-0.17</td>\n",
       "      <td>-0.26</td>\n",
       "    </tr>\n",
       "    <tr>\n",
       "      <th>9</th>\n",
       "      <td>1889</td>\n",
       "      <td>-0.10</td>\n",
       "      <td>-0.25</td>\n",
       "    </tr>\n",
       "  </tbody>\n",
       "</table>\n",
       "</div>"
      ],
      "text/plain": [
       "   Year  No_Smoothing  Lowess(5)\n",
       "0  1880         -0.16      -0.08\n",
       "1  1881         -0.08      -0.12\n",
       "2  1882         -0.10      -0.16\n",
       "3  1883         -0.16      -0.20\n",
       "4  1884         -0.28      -0.23\n",
       "5  1885         -0.33      -0.26\n",
       "6  1886         -0.31      -0.27\n",
       "7  1887         -0.36      -0.27\n",
       "8  1888         -0.17      -0.26\n",
       "9  1889         -0.10      -0.25"
      ]
     },
     "execution_count": 56,
     "metadata": {},
     "output_type": "execute_result"
    }
   ],
   "source": [
    "import pandas\n",
    "df = pandas.read_csv(\"https://data.giss.nasa.gov/gistemp/graphs/graph_data/Global_Mean_Estimates_based_on_Land_and_Ocean_Data/graph.txt\", sep=r'     ', skiprows=5, names=[\"Year\", \"No_Smoothing\", \"Lowess(5)\"], engine=\"python\")\n",
    "df.head(10)"
   ]
  },
  {
   "cell_type": "markdown",
   "id": "robust-suspect",
   "metadata": {},
   "source": [
    "Now lets visualize this information with a graph using pyplot"
   ]
  },
  {
   "cell_type": "code",
   "execution_count": 60,
   "id": "changing-invalid",
   "metadata": {
    "execution": {
     "iopub.execute_input": "2021-04-22T10:16:53.839916Z",
     "iopub.status.busy": "2021-04-22T10:16:53.839586Z",
     "iopub.status.idle": "2021-04-22T10:16:54.377411Z",
     "shell.execute_reply": "2021-04-22T10:16:54.374354Z",
     "shell.execute_reply.started": "2021-04-22T10:16:53.839879Z"
    },
    "tags": []
   },
   "outputs": [
    {
     "data": {
      "image/png": "[encoded data removed]",
      "text/plain": [
       "<Figure size 432x288 with 1 Axes>"
      ]
     },
     "metadata": {
      "needs_background": "light"
     },
     "output_type": "display_data"
    }
   ],
   "source": [
    "import matplotlib.pyplot as plt\n",
    "\n",
    "plt.plot(df[\"Year\"], df[\"Lowess(5)\"], label = \"Lowess\", color='black')\n",
    "plt.plot(df[\"Year\"], df[\"No_Smoothing\"], label = \"No_Smoothing\", color='lightgray')\n",
    "\n",
    "plt.xlabel('Year')\n",
    "plt.ylabel('Temperature Anomaly (°C)')\n",
    "\n",
    "plt.title('Land-Ocean Temperature Index (°C)')\n",
    "plt.legend()\n",
    "plt.show()"
   ]
  },
  {
   "cell_type": "markdown",
   "id": "abroad-roads",
   "metadata": {},
   "source": [
    "Lets compare this to the evolution of computer usage"
   ]
  },
  {
   "cell_type": "markdown",
   "id": "thousand-start",
   "metadata": {
    "execution": {
     "iopub.execute_input": "2021-04-22T11:49:36.772584Z",
     "iopub.status.busy": "2021-04-22T11:49:36.772327Z",
     "iopub.status.idle": "2021-04-22T11:49:36.787589Z",
     "shell.execute_reply": "2021-04-22T11:49:36.786627Z",
     "shell.execute_reply.started": "2021-04-22T11:49:36.772522Z"
    }
   },
   "source": [
    "**TODO** : describe chart\n",
    "**TODO** : predictive model ????"
   ]
  },
  {
   "cell_type": "code",
   "execution_count": null,
   "id": "enormous-warrior",
   "metadata": {},
   "outputs": [],
   "source": []
  }
 ],
 "metadata": {
  "kernelspec": {
   "display_name": "Python 3",
   "language": "python",
   "name": "python3"
  },
  "language_info": {
   "codemirror_mode": {
    "name": "ipython",
    "version": 3
   },
   "file_extension": ".py",
   "mimetype": "text/x-python",
   "name": "python",
   "nbconvert_exporter": "python",
   "pygments_lexer": "ipython3",
   "version": "3.8.8"
  }
 },
 "nbformat": 4,
 "nbformat_minor": 5
}
