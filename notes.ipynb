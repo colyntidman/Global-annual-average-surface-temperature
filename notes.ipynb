{
 "cells": [
  {
   "cell_type": "markdown",
   "id": "valued-watch",
   "metadata": {},
   "source": [
    "# Global annual average surface temperature"
   ]
  },
  {
   "cell_type": "markdown",
   "id": "diverse-interim",
   "metadata": {},
   "source": [
    "We found on a the NASA website : https://data.giss.nasa.gov/gistemp/graphs/graph_data/Global_Mean_Estimates_based_on_Land_and_Ocean_Data/graph.txt"
   ]
  },
  {
   "cell_type": "code",
   "execution_count": 1,
   "id": "simplified-prisoner",
   "metadata": {
    "execution": {
     "iopub.execute_input": "2021-04-22T15:16:37.488889Z",
     "iopub.status.busy": "2021-04-22T15:16:37.488630Z",
     "iopub.status.idle": "2021-04-22T15:16:38.450841Z",
     "shell.execute_reply": "2021-04-22T15:16:38.450126Z",
     "shell.execute_reply.started": "2021-04-22T15:16:37.488825Z"
    },
    "tags": []
   },
   "outputs": [
    {
     "data": {
      "text/html": [
       "<div>\n",
       "<style scoped>\n",
       "    .dataframe tbody tr th:only-of-type {\n",
       "        vertical-align: middle;\n",
       "    }\n",
       "\n",
       "    .dataframe tbody tr th {\n",
       "        vertical-align: top;\n",
       "    }\n",
       "\n",
       "    .dataframe thead th {\n",
       "        text-align: right;\n",
       "    }\n",
       "</style>\n",
       "<table border=\"1\" class=\"dataframe\">\n",
       "  <thead>\n",
       "    <tr style=\"text-align: right;\">\n",
       "      <th></th>\n",
       "      <th>Year</th>\n",
       "      <th>Delta</th>\n",
       "      <th>Detla (Smoothed)</th>\n",
       "    </tr>\n",
       "  </thead>\n",
       "  <tbody>\n",
       "    <tr>\n",
       "      <th>131</th>\n",
       "      <td>2011</td>\n",
       "      <td>0.61</td>\n",
       "      <td>0.67</td>\n",
       "    </tr>\n",
       "    <tr>\n",
       "      <th>132</th>\n",
       "      <td>2012</td>\n",
       "      <td>0.65</td>\n",
       "      <td>0.70</td>\n",
       "    </tr>\n",
       "    <tr>\n",
       "      <th>133</th>\n",
       "      <td>2013</td>\n",
       "      <td>0.68</td>\n",
       "      <td>0.74</td>\n",
       "    </tr>\n",
       "    <tr>\n",
       "      <th>134</th>\n",
       "      <td>2014</td>\n",
       "      <td>0.75</td>\n",
       "      <td>0.79</td>\n",
       "    </tr>\n",
       "    <tr>\n",
       "      <th>135</th>\n",
       "      <td>2015</td>\n",
       "      <td>0.90</td>\n",
       "      <td>0.83</td>\n",
       "    </tr>\n",
       "    <tr>\n",
       "      <th>136</th>\n",
       "      <td>2016</td>\n",
       "      <td>1.02</td>\n",
       "      <td>0.88</td>\n",
       "    </tr>\n",
       "    <tr>\n",
       "      <th>137</th>\n",
       "      <td>2017</td>\n",
       "      <td>0.93</td>\n",
       "      <td>0.91</td>\n",
       "    </tr>\n",
       "    <tr>\n",
       "      <th>138</th>\n",
       "      <td>2018</td>\n",
       "      <td>0.85</td>\n",
       "      <td>0.95</td>\n",
       "    </tr>\n",
       "    <tr>\n",
       "      <th>139</th>\n",
       "      <td>2019</td>\n",
       "      <td>0.98</td>\n",
       "      <td>0.98</td>\n",
       "    </tr>\n",
       "    <tr>\n",
       "      <th>140</th>\n",
       "      <td>2020</td>\n",
       "      <td>1.02</td>\n",
       "      <td>1.01</td>\n",
       "    </tr>\n",
       "  </tbody>\n",
       "</table>\n",
       "</div>"
      ],
      "text/plain": [
       "     Year  Delta  Detla (Smoothed)\n",
       "131  2011   0.61              0.67\n",
       "132  2012   0.65              0.70\n",
       "133  2013   0.68              0.74\n",
       "134  2014   0.75              0.79\n",
       "135  2015   0.90              0.83\n",
       "136  2016   1.02              0.88\n",
       "137  2017   0.93              0.91\n",
       "138  2018   0.85              0.95\n",
       "139  2019   0.98              0.98\n",
       "140  2020   1.02              1.01"
      ]
     },
     "execution_count": 1,
     "metadata": {},
     "output_type": "execute_result"
    }
   ],
   "source": [
    "import pandas\n",
    "\n",
    "url_nasa_termperatures = \"https://data.giss.nasa.gov/gistemp/graphs/graph_data/Global_Mean_Estimates_based_on_Land_and_Ocean_Data/graph.txt\"\n",
    "\n",
    "df = pandas.read_csv(url_nasa_termperatures, sep=r'     ', skiprows=5, names=[\"Year\", \"Delta\", \"Detla (Smoothed)\"], engine=\"python\")\n",
    "df.tail(10)"
   ]
  },
  {
   "cell_type": "markdown",
   "id": "developmental-century",
   "metadata": {},
   "source": [
    "Here we can see the evolution of the average surface temperature anomaly from the last 10 years. <br>\n",
    "Now lets visualize this information with a graph using pyplot :"
   ]
  },
  {
   "cell_type": "code",
   "execution_count": 2,
   "id": "double-peoples",
   "metadata": {
    "execution": {
     "iopub.execute_input": "2021-04-22T15:16:40.709145Z",
     "iopub.status.busy": "2021-04-22T15:16:40.708917Z",
     "iopub.status.idle": "2021-04-22T15:16:41.839202Z",
     "shell.execute_reply": "2021-04-22T15:16:41.838657Z",
     "shell.execute_reply.started": "2021-04-22T15:16:40.709123Z"
    },
    "tags": []
   },
   "outputs": [
    {
     "data": {
      "image/png": "[encoded data removed]",
      "text/plain": [
       "<Figure size 432x288 with 1 Axes>"
      ]
     },
     "metadata": {
      "needs_background": "light"
     },
     "output_type": "display_data"
    }
   ],
   "source": [
    "import matplotlib.pyplot as plt\n",
    "\n",
    "plt.plot(df[\"Year\"], df[\"Detla (Smoothed)\"], label = \"Delta (Smoothed)\", color='red')\n",
    "plt.plot(df[\"Year\"], df[\"Delta\"], label = \"Delta\", color='lightgray')\n",
    "\n",
    "plt.xlabel('Year')\n",
    "plt.ylabel('Temperature Anomaly (°C)')\n",
    "\n",
    "plt.title('Land-Ocean Temperature Index (°C)')\n",
    "plt.legend()\n",
    "plt.show()"
   ]
  },
  {
   "cell_type": "markdown",
   "id": "seeing-marine",
   "metadata": {},
   "source": [
    "According to the Paris Agreement, the delta **should not be higher than 2**. As you can see here on the graph, it increasing quickly with the years specially since 1950"
   ]
  },
  {
   "cell_type": "markdown",
   "id": "becoming-persian",
   "metadata": {},
   "source": [
    "<br><br> **TODO :**\n",
    "- *Compare the evolution of the delta with the industrial revolution dates*\n",
    "- *Predict with machine learning the delta for the next 50 years*"
   ]
  },
  {
   "cell_type": "code",
   "execution_count": null,
   "id": "scheduled-trail",
   "metadata": {},
   "outputs": [],
   "source": []
  }
 ],
 "metadata": {
  "kernelspec": {
   "display_name": "Python 3",
   "language": "python",
   "name": "python3"
  },
  "language_info": {
   "codemirror_mode": {
    "name": "ipython",
    "version": 3
   },
   "file_extension": ".py",
   "mimetype": "text/x-python",
   "name": "python",
   "nbconvert_exporter": "python",
   "pygments_lexer": "ipython3",
   "version": "3.8.8"
  }
 },
 "nbformat": 4,
 "nbformat_minor": 5
}
