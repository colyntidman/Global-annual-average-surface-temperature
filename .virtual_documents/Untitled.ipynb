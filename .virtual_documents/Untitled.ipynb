import pandas
df = pandas.read_csv("https://data.giss.nasa.gov/gistemp/graphs/graph_data/Global_Mean_Estimates_based_on_Land_and_Ocean_Data/graph.txt", sep=r'     ', skiprows=5, names=["Year", "No_Smoothing", "Lowess(5)"], engine="python")
df.head(10)


import matplotlib.pyplot as plt

plt.plot(df["Year"], df["Lowess(5)"], label = "Lowess", color='black')
plt.plot(df["Year"], df["No_Smoothing"], label = "No_Smoothing", color='lightgray')

plt.xlabel('Year')
plt.ylabel('Temperature Anomaly (°C)')

plt.title('Land-Ocean Temperature Index (°C)')
plt.legend()
plt.show()



