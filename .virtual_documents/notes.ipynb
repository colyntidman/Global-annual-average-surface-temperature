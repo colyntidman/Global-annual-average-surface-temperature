import pandas

url_nasa_termperatures = "https://data.giss.nasa.gov/gistemp/graphs/graph_data/Global_Mean_Estimates_based_on_Land_and_Ocean_Data/graph.txt"

df = pandas.read_csv(url_nasa_termperatures, sep=r'     ', skiprows=5, names=["Year", "Delta", "Detla (Smoothed)"], engine="python")


df.tail(10)


import matplotlib.pyplot as plt

plt.plot(df["Year"], df["Detla (Smoothed)"], label = "Delta (Smoothed)", color='red')
plt.plot(df["Year"], df["Delta"], label = "Delta", color='lightgray')

plt.xlabel('Year')
plt.ylabel('Temperature Anomaly (°C)')

plt.title('Land-Ocean Temperature Index (°C)')
plt.legend()
plt.show()


plt.plot(df["Year"], df["Detla (Smoothed)"], label = "Delta (Smoothed)", color='red')
plt.plot(df["Year"], df["Delta"], label = "Delta", color='lightgray')

plt.xlabel('Year')
plt.ylabel('Temperature Anomaly (°C)')

plt.title('Land-Ocean Temperature Index (°C)')
plt.legend()


plt.annotate("Indus. Rev.", (1910, 0.0))
plt.annotate("Indus. Rev.", (1970, 0.4))
plt.show()



